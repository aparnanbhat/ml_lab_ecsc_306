{
 "cells": [
  {
   "cell_type": "markdown",
   "metadata": {
    "slideshow": {
     "slide_type": "slide"
    }
   },
   "source": [
    "Write a program using tensorflow to calculate : \n",
    "    $$y=mx+c$$"
   ]
  },
  {
   "cell_type": "markdown",
   "metadata": {
    "slideshow": {
     "slide_type": "slide"
    }
   },
   "source": [
    "### Part 1\n",
    "\n",
    "1. Read 2 arrays x,y containing floating point values\n",
    "2. Calculate mean of x & y\n",
    "3. Calculate variance for x\n",
    "    $$variance(x)=sum((x-mean(x))^2)$$\n",
    "4. Calculate covariance of x & y\n",
    "    $$covariance = sum((x(i) - mean(x)) * (y(i) - mean(y)))$$\n",
    "5. Calculate value of m\n",
    "    $$m = covariance(x,y)/variance(x)$$\n",
    "6. Calculate value of c\n",
    "    $$c = mean(y) -m* mean(x)$$\n",
    "    "
   ]
  },
  {
   "cell_type": "markdown",
   "metadata": {
    "slideshow": {
     "slide_type": "slide"
    }
   },
   "source": [
    "### Part 2\n",
    "\n",
    "1. Plot graph for actual values against predicted value\n",
    "2. Calculate root mean square error."
   ]
  },
  {
   "cell_type": "code",
   "execution_count": 8,
   "metadata": {},
   "outputs": [
    {
     "name": "stdout",
     "output_type": "stream",
     "text": [
      "[[ 10.19999981   1.60000002   8.89999962   8.5         10.30000019   5.5\n",
      "    9.89999962  10.        ]]\n",
      "[[ 12.80000019  14.80000019  15.5          7.9000001    3.29999995   4.\n",
      "    2.9000001    8.89999962]]\n"
     ]
    }
   ],
   "source": [
    "import tensorflow as tf\n",
    "\n",
    "\n",
    "x=tf.constant([10.2,1.6,8.9,8.5,10.3,5.5,9.9,10.0],shape=[1,8])\n",
    "y=tf.constant([12.8,14.8,15.5,7.9,3.3,4.0,2.9,8.9],shape=[1,8])\n",
    "\n",
    "\n",
    "sess=tf.Session()\n",
    "print(sess.run(x))\n",
    "print(sess.run(y))"
   ]
  },
  {
   "cell_type": "code",
   "execution_count": 9,
   "metadata": {},
   "outputs": [
    {
     "name": "stdout",
     "output_type": "stream",
     "text": [
      "Mean of x:\n",
      "[ 8.11250019]\n",
      "Mean of y:\n",
      "[ 8.76249981]\n"
     ]
    }
   ],
   "source": [
    "with tf.name_scope(\"Mean\"):\n",
    "    mean_x=tf.reduce_mean(x,1)\n",
    "    sess=tf.Session()\n",
    "    print(\"Mean of x:\")\n",
    "    print(sess.run(mean_x))\n",
    "\n",
    "    mean_y=tf.reduce_mean(y,1)\n",
    "    sess=tf.Session()\n",
    "    print(\"Mean of y:\")\n",
    "    print(sess.run(mean_y))"
   ]
  },
  {
   "cell_type": "code",
   "execution_count": 10,
   "metadata": {},
   "outputs": [
    {
     "name": "stdout",
     "output_type": "stream",
     "text": [
      "Variance:\n",
      "8.23859\n"
     ]
    }
   ],
   "source": [
    "with tf.name_scope(\"variance\"):\n",
    "    a=tf.subtract(x,mean_x)\n",
    "    b=tf.square(a)\n",
    "    var_x=tf.reduce_mean(b)\n",
    "    sess=tf.Session()\n",
    "    print(\"Variance:\")\n",
    "    print(sess.run(var_x))\n"
   ]
  },
  {
   "cell_type": "code",
   "execution_count": 11,
   "metadata": {},
   "outputs": [
    {
     "name": "stdout",
     "output_type": "stream",
     "text": [
      "Covariance:\n",
      "-4.45578\n"
     ]
    }
   ],
   "source": [
    "with tf.name_scope(\"Covariance\"):\n",
    "    a1=tf.subtract(x,mean_x)\n",
    "    b1=tf.subtract(y,mean_y)\n",
    "    c=tf.multiply(a1,b1)\n",
    "    covar=tf.reduce_mean(c)\n",
    "    sess=tf.Session()\n",
    "    print(\"Covariance:\")\n",
    "    print(sess.run(covar))   \n"
   ]
  },
  {
   "cell_type": "code",
   "execution_count": 12,
   "metadata": {},
   "outputs": [
    {
     "name": "stdout",
     "output_type": "stream",
     "text": [
      "m:\n",
      "-0.540843\n"
     ]
    }
   ],
   "source": [
    "with tf.name_scope(\"m\"):\n",
    "    m=tf.divide(covar,var_x)\n",
    "    sess=tf.Session()\n",
    "    print(\"m:\")\n",
    "    print(sess.run(m)) "
   ]
  },
  {
   "cell_type": "code",
   "execution_count": 13,
   "metadata": {},
   "outputs": [
    {
     "name": "stdout",
     "output_type": "stream",
     "text": [
      "c:\n",
      "[ 13.15008545]\n"
     ]
    }
   ],
   "source": [
    "with tf.name_scope(\"c\"):\n",
    "    z=tf.multiply(m,mean_x)\n",
    "    c=tf.subtract(mean_y,z)\n",
    "    sess=tf.Session()\n",
    "    print(\"c:\")\n",
    "    print(sess.run(c)) "
   ]
  },
  {
   "cell_type": "code",
   "execution_count": null,
   "metadata": {},
   "outputs": [],
   "source": []
  }
 ],
 "metadata": {
  "celltoolbar": "Slideshow",
  "kernelspec": {
   "display_name": "Python 3",
   "language": "python",
   "name": "python3"
  },
  "language_info": {
   "codemirror_mode": {
    "name": "ipython",
    "version": 3
   },
   "file_extension": ".py",
   "mimetype": "text/x-python",
   "name": "python",
   "nbconvert_exporter": "python",
   "pygments_lexer": "ipython3",
   "version": "3.6.2"
  }
 },
 "nbformat": 4,
 "nbformat_minor": 2
}
