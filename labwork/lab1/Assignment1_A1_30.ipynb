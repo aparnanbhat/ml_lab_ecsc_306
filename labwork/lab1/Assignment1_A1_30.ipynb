{
 "cells": [
  {
   "cell_type": "markdown",
   "metadata": {},
   "source": [
    "## (a+b)2=a2+b2+2ab"
   ]
  },
  {
   "cell_type": "code",
   "execution_count": 1,
   "metadata": {},
   "outputs": [
    {
     "name": "stdout",
     "output_type": "stream",
     "text": [
      "144\n"
     ]
    }
   ],
   "source": [
    "import tensorflow as tf\n",
    "a=tf.constant(5)\n",
    "b=tf.constant(7)\n",
    "with tf.name_scope(\"MyOperationGroup\"):\n",
    "    with tf.name_scope(\"Scope_A\"):\n",
    "        c=tf.multiply(a,a, name=\"Squaring_first_number\")\n",
    "        d=tf.multiply(b,b, name=\"Squaring_second_number\")\n",
    "    with tf.name_scope(\"Scope_B\"):\n",
    "        e=tf.multiply(a,b, name=\"Multiply_a_and_b\")\n",
    "        f=tf.multiply(2,e, name=\"Muliply_to_get_2ab\")\n",
    "    with tf.name_scope(\"Scope_C\"):\n",
    "        g=tf.add(c,d, name=\"Adding\")\n",
    "        h=tf.add(g,f, name=\"Adding_to_get_final_answer\")\n",
    "\n",
    "with tf.Session() as sess:\n",
    "    writer = tf.summary.FileWriter(\"/tmp/tboard/output\", sess.graph)\n",
    "    print(sess.run(h))\n",
    "    writer.close()"
   ]
  },
  {
   "cell_type": "markdown",
   "metadata": {
    "collapsed": true
   },
   "source": [
    "## (a+b+c)2=a2+b2+c2+2ab+2bc+2ac"
   ]
  },
  {
   "cell_type": "code",
   "execution_count": 1,
   "metadata": {},
   "outputs": [
    {
     "name": "stdout",
     "output_type": "stream",
     "text": [
      "324\n"
     ]
    }
   ],
   "source": [
    "import tensorflow as tf\n",
    "a=tf.constant(5)\n",
    "b=tf.constant(6)\n",
    "c=tf.constant(7)\n",
    "with tf.name_scope(\"MyOperationGroup\"):\n",
    "    with tf.name_scope(\"Scope_A\"):\n",
    "        d=tf.multiply(a,a, name=\"Squaring_first_number\")\n",
    "        e=tf.multiply(b,b, name=\"Squaring_second_number\")\n",
    "        f=tf.multiply(c,c, name=\"Squaring_third_number\")\n",
    "    with tf.name_scope(\"Scope_B\"):\n",
    "        g=tf.multiply(a,b, name=\"Multiply_a_and_b\")\n",
    "        h=tf.multiply(2,g, name=\"2ab\")\n",
    "    with tf.name_scope(\"Scope_C\"):\n",
    "        i=tf.multiply(b,c, name=\"Multiply_b_and_c\")\n",
    "        j=tf.multiply(2,i, name=\"2bc\")\n",
    "    with tf.name_scope(\"Scope_D\"):\n",
    "        k=tf.multiply(a,c, name=\"Multiply_a_and_c\")\n",
    "        l=tf.multiply(2,k, name=\"2ac\")\n",
    "    with tf.name_scope(\"Scope_E\"):\n",
    "        m=tf.add(d,e, name=\"Adding\")\n",
    "        n=tf.add(m,f, name=\"Adding\")\n",
    "        o=tf.add(n,h, name=\"Adding\")\n",
    "        p=tf.add(o,j, name=\"Adding\")\n",
    "        q=tf.add(p,l, name=\"Adding\")\n",
    "\n",
    "with tf.Session() as sess:\n",
    "    writer = tf.summary.FileWriter(\"/tmp/tboard/output1\", sess.graph)\n",
    "    print(sess.run(q))\n",
    "    writer.close()"
   ]
  },
  {
   "cell_type": "code",
   "execution_count": null,
   "metadata": {
    "collapsed": true
   },
   "outputs": [],
   "source": []
  }
 ],
 "metadata": {
  "kernelspec": {
   "display_name": "Python 3",
   "language": "python",
   "name": "python3"
  },
  "language_info": {
   "codemirror_mode": {
    "name": "ipython",
    "version": 3
   },
   "file_extension": ".py",
   "mimetype": "text/x-python",
   "name": "python",
   "nbconvert_exporter": "python",
   "pygments_lexer": "ipython3",
   "version": "3.6.2"
  }
 },
 "nbformat": 4,
 "nbformat_minor": 2
}
